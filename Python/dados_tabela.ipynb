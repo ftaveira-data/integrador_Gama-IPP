{
 "cells": [
  {
   "cell_type": "markdown",
   "id": "9bc67c2d",
   "metadata": {},
   "source": [
    "## Importação das bibliotecas utilizadas"
   ]
  },
  {
   "cell_type": "code",
   "execution_count": 1,
   "id": "2fa60e90",
   "metadata": {},
   "outputs": [],
   "source": [
    "import mysql.connector as sql\n",
    "import pandas as pd\n",
    "import random\n",
    "import csv\n",
    "from tqdm import tqdm\n",
    "from datetime import datetime, timedelta"
   ]
  },
  {
   "cell_type": "markdown",
   "id": "ddec1195",
   "metadata": {},
   "source": [
    "## Funções de conexão com banco"
   ]
  },
  {
   "cell_type": "code",
   "execution_count": 2,
   "id": "4096223f",
   "metadata": {},
   "outputs": [],
   "source": [
    "# Cria a conexão com o banco\n",
    "def conexao():\n",
    "    conn = sql.connect(host = 'localhost', user = '', passwd = '', database = 'projeto_gama')\n",
    "    if conn == False:\n",
    "        print('Conexão mal sucedida!')\n",
    "    return conn\n",
    "\n",
    "# Inicializa a conexão\n",
    "conn = conexao()\n",
    "\n",
    "# Executa um comando no banco\n",
    "def query(comando, conexao = conn):\n",
    "    cursor = conexao.cursor()\n",
    "    cursor.execute(comando)\n",
    "    conexao.commit()\n",
    "    return cursor\n",
    "\n",
    "# Insere um novo registro na tabela dm_postos\n",
    "def inserir_posto(razao_posto, cnpj_posto, endereco_posto, bairro_posto, cep_posto, uf_posto, municipio_posto, nota_posto):\n",
    "    query(f\"\"\"INSERT INTO dm_postos VALUES (null, '{razao_posto}', '{cnpj_posto}', '{endereco_posto}', '{bairro_posto}',\n",
    "    '{cep_posto}', '{uf_posto}', '{municipio_posto}', '{nota_posto}')\"\"\")\n",
    "\n",
    "# Insere um novo registro na tabela dm_data\n",
    "def inserir_data(data_completa, dia_data, mes_data, ano_data, nome_mes_data, trmst_data, semst_data):\n",
    "    query(f\"\"\"INSERT INTO dm_data VALUES (null, '{data_completa}', '{dia_data}', '{mes_data}', '{ano_data}',\n",
    "    '{nome_mes_data}', '{trmst_data}', '{semst_data}')\"\"\")\n",
    "\n",
    "# Insere um novo registro na tabela dm_funcionario\n",
    "def inserir_funcionario(nome_func, cargo_func, salario_func, id_posto, nota_func):\n",
    "    query(f\"\"\"INSERT INTO dm_funcionarios VALUES (null, '{nome_func}', '{cargo_func}', '{salario_func}' , '{id_posto}', '{nota_func}')\"\"\")\n",
    "\n",
    "# Insere um novo registro na tabela dm_combustiveis\n",
    "def inserir_comb(id_comb, id_data, nome_comb, tipo_comb, custo_comb, revenda_comb):\n",
    "    query(f\"\"\"INSERT INTO dm_combustiveis (id_comb, id_data, nome_comb, tipo_comb, custo_comb, revenda_comb)\n",
    "    VALUES ('{id_comb}', '{id_data}', '{nome_comb}', '{tipo_comb}' , '{custo_comb}', '{revenda_comb}')\"\"\")\n",
    "\n",
    "# Insere um novo registro na tabela pr_vendas\n",
    "def inserir_vendas(id_data, id_posto, id_func, id_comb, qtd_lts, valor_venda):\n",
    "    query(f\"\"\"INSERT INTO pr_vendas VALUES \n",
    "    (null, '{id_data}', '{id_posto}', '{id_func}', '{id_comb}' , '{qtd_lts}', '{valor_venda}')\"\"\")\n",
    "\n",
    "# Retorna o id de um funcionário pelo id do seu posto\n",
    "def busca_func(posto):\n",
    "    df = pd.read_sql_query(f\"\"\" SELECT id_func FROM dm_funcionarios WHERE id_posto = '{posto}' and cargo_func = 'Frentista' \"\"\", conn)\n",
    "    return df\n",
    "\n",
    "# Retorna o preço de um combustível em determinada data\n",
    "def busca_comb(comb, data):\n",
    "    df = pd.read_sql_query(f\"\"\" SELECT revenda_comb FROM dm_combustiveis WHERE id_comb = '{comb}' and id_data = '{data}' \"\"\", conn)\n",
    "    return df"
   ]
  },
  {
   "cell_type": "markdown",
   "id": "47c7f0b5",
   "metadata": {},
   "source": [
    "## Inserção de dados no banco"
   ]
  },
  {
   "cell_type": "markdown",
   "id": "45651163",
   "metadata": {},
   "source": [
    "#### Tabela DM_POSTOS\n",
    "- O código abaixo lê um arquivo csv com informações de postos Ipiranga reais, extraído do site da ANP, e insere na tabela dm_postos"
   ]
  },
  {
   "cell_type": "code",
   "execution_count": 8,
   "id": "c4a2cb53",
   "metadata": {
    "scrolled": true
   },
   "outputs": [],
   "source": [
    "df = pd.read_csv('base_postos.csv', sep = ';') # Cria um dataframe com as informações dos postos\n",
    "for i in df.itertuples():\n",
    "    razao = i[1]\n",
    "    cnpj = i[2]\n",
    "    endereco = i[3]\n",
    "    bairro = i[4]\n",
    "    cep = i[5]\n",
    "    uf = i[6]\n",
    "    mun = i[7]\n",
    "    nota = random.randint(3, 10)\n",
    "    inserir_posto(razao, cnpj, endereco, bairro, cep, uf, mun, nota)"
   ]
  },
  {
   "cell_type": "markdown",
   "id": "24a83dd9",
   "metadata": {},
   "source": [
    "#### Tabela DM_DATA\n",
    "- O código abaixo cria uma lista de datas desde 01/01/2021 até 30/11/2023 e insere na tabela dm_data"
   ]
  },
  {
   "cell_type": "code",
   "execution_count": 5,
   "id": "8042a157",
   "metadata": {},
   "outputs": [],
   "source": [
    "list_datas = [(datetime(2021, 1, 1) + timedelta(days=n)).strftime('%Y-%m-%d') \n",
    "              for n in range((datetime(2023, 11, 30) - datetime(2021, 1, 1)).days + 1)]\n",
    "\n",
    "for i in range(len(list_datas)):\n",
    "    data = list_datas[i]\n",
    "    dia = int(list_datas[i].split('-')[2])\n",
    "    mes =  int(list_datas[i].split('-')[1])\n",
    "    ano = int(list_datas[i].split('-')[0])\n",
    "    \n",
    "    if int(list_datas[i].split('-')[1]) == 1:\n",
    "        nome_mes = 'Jan'\n",
    "        trmst = 1\n",
    "        semst = 1\n",
    "    elif int(list_datas[i].split('-')[1]) == 2:\n",
    "        nome_mes = 'Fev'\n",
    "        trmst = 1\n",
    "        semst = 1\n",
    "    elif int(list_datas[i].split('-')[1]) == 3:\n",
    "        nome_mes = 'Mar'\n",
    "        trmst = 1\n",
    "        semst = 1\n",
    "    elif int(list_datas[i].split('-')[1]) == 4:\n",
    "        nome_mes = 'Abr'\n",
    "        trmst = 2\n",
    "        semst = 1\n",
    "    elif int(list_datas[i].split('-')[1]) == 5:\n",
    "        nome_mes = 'Mai'\n",
    "        trmst = 2\n",
    "        semst = 1\n",
    "    elif int(list_datas[i].split('-')[1]) == 6:\n",
    "        nome_mes = 'Jun'\n",
    "        trmst = 2\n",
    "        semst = 1\n",
    "    elif int(list_datas[i].split('-')[1]) == 7:\n",
    "        nome_mes = 'Jul'\n",
    "        trmst = 3\n",
    "        semst = 2\n",
    "    elif int(list_datas[i].split('-')[1]) == 8:\n",
    "        nome_mes = 'Ago'\n",
    "        trmst = 3\n",
    "        semst = 2\n",
    "    elif int(list_datas[i].split('-')[1]) == 9:\n",
    "        nome_mes = 'Set'\n",
    "        trmst = 3\n",
    "        semst = 2\n",
    "    elif int(list_datas[i].split('-')[1]) == 10:\n",
    "        nome_mes = 'Out'\n",
    "        trmst = 4\n",
    "        semst = 2\n",
    "    elif int(list_datas[i].split('-')[1]) == 11:\n",
    "        nome_mes = 'Nov'\n",
    "        trmst = 4\n",
    "        semst = 2\n",
    "    else:\n",
    "        nome_mes = 'Dez'\n",
    "        trmst = 4\n",
    "        semst = 2\n",
    "        \n",
    "    inserir_data(data, dia, mes, ano, nome_mes, trmst, semst)\n",
    "    \n",
    "    "
   ]
  },
  {
   "cell_type": "markdown",
   "id": "c5c27b46",
   "metadata": {},
   "source": [
    "#### Tabela DM_FUNCIONARIOS\n",
    "- O código abaixo cria uma lista de nomes aleatórios, cargo e salário e uma nota de avaliação e insere na tabela dm_funcionarios"
   ]
  },
  {
   "cell_type": "code",
   "execution_count": 9,
   "id": "411d2695",
   "metadata": {},
   "outputs": [],
   "source": [
    "primeiros_nomes = [\"João\", \"Maria\", \"Pedro\", \"Ana\", \"Roberto\", 'Carlos', 'Tatiana', 'Patricia', 'Ricardo', 'Aline'] \n",
    "nomes_meio = [\"Silva\", \"Oliveira\", \"Santos\", 'Ferreira', 'Pereira', 'Cerqueira']\n",
    "sobrenomes = [\"da Silva\", \"dos Santos\", \"Oliveira\", 'da Costa', 'Rodrigues']\n",
    "\n",
    "cargos = ['Frentista', 'Atendente', 'Gerente', 'Assistente Administrativo']\n",
    "\n",
    "salarios = [3199, 2220, 4517, 3496]\n",
    "\n",
    "# Gerar uma lista de nomes completos\n",
    "nomes_completos = [\n",
    "    f\"{random.choice(primeiros_nomes)} {random.choice(nomes_meio)} {random.choice(sobrenomes)}\"\n",
    "    for _ in range(len(df))\n",
    "]\n",
    "\n",
    "cont = len(df)\n",
    "for i in range(1, cont):\n",
    "    for x in range(5):\n",
    "        nome_func = random.choice(nomes_completos)\n",
    "        cargo_func = random.choice(cargos)\n",
    "        if cargo_func == 'Frentista':\n",
    "            salario_func = salarios[0]\n",
    "        elif cargo_func == 'Atendente':\n",
    "            salario_func = salarios[1]\n",
    "        elif cargo_func == 'Gerente':\n",
    "            salario_func = salarios[2]\n",
    "        elif cargo_func == 'Assistente Administrativo':\n",
    "            salario_func = salarios[3]\n",
    "        id_posto = i\n",
    "        nota = random.randint(3, 10)\n",
    "        \n",
    "        inserir_funcionario(nome_func, cargo_func, salario_func, id_posto, nota)"
   ]
  },
  {
   "cell_type": "markdown",
   "id": "691669a4",
   "metadata": {},
   "source": [
    "#### Tabela DM_COMBUSTIVEIS\n",
    "- O código abaixo lê um arquivo csv com informações sobre os combustíveis e insere na tabela dm_combustiveis"
   ]
  },
  {
   "cell_type": "code",
   "execution_count": 7,
   "id": "410ff4d3",
   "metadata": {},
   "outputs": [],
   "source": [
    "combs = pd.read_csv('base_custos.csv', sep = ';')\n",
    "for i in combs.itertuples():\n",
    "    id_comb = i[1]\n",
    "    id_data = i[2]\n",
    "    nome_comb = i[3]\n",
    "    tipo_comb = i[4]\n",
    "    custo_comb = i[5]\n",
    "    revenda_comb = (custo_comb * 1.25)\n",
    "    inserir_comb(id_comb, id_data, nome_comb, tipo_comb, custo_comb, revenda_comb)"
   ]
  },
  {
   "cell_type": "markdown",
   "id": "fc0b0fbd",
   "metadata": {},
   "source": [
    "#### Tabela PR_VENDAS\n",
    "- O código abaixo cria registros de vendas e insere na tabela pr_vendas"
   ]
  },
  {
   "cell_type": "code",
   "execution_count": 1,
   "id": "cc67c512",
   "metadata": {},
   "outputs": [],
   "source": [
    "for data in tqdm(range(366, 1065)):\n",
    "    for posto in range(1, 318):\n",
    "        for x in range(random.randint(15, 21)):\n",
    "            id_data = data\n",
    "            id_posto = posto\n",
    "            for i in busca_func(posto).itertuples():\n",
    "                ls = []\n",
    "                ls.append(i[1])\n",
    "            id_func = ls[random.randint(0, len(ls)-1)]\n",
    "            id_comb = random.randint(1, 7)\n",
    "            if id_comb == 2 or id_comb == 6:\n",
    "                qtd_lts = round(random.uniform(10.0, 1000.0), 2)\n",
    "            else:\n",
    "                qtd_lts = round(random.uniform(5.0, 100.0), 2)\n",
    "            preco_revenda = float(busca_comb(id_comb, data).sum())\n",
    "            valor_venda = round((qtd_lts * preco_revenda), 2)\n",
    "            \n",
    "            inserir_vendas(id_data, id_posto, id_func, id_comb, qtd_lts, valor_venda)       "
   ]
  }
 ],
 "metadata": {
  "kernelspec": {
   "display_name": "Python 3 (ipykernel)",
   "language": "python",
   "name": "python3"
  },
  "language_info": {
   "codemirror_mode": {
    "name": "ipython",
    "version": 3
   },
   "file_extension": ".py",
   "mimetype": "text/x-python",
   "name": "python",
   "nbconvert_exporter": "python",
   "pygments_lexer": "ipython3",
   "version": "3.11.4"
  }
 },
 "nbformat": 4,
 "nbformat_minor": 5
}
